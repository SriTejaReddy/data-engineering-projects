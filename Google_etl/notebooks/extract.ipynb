{
 "cells": [
  {
   "cell_type": "code",
   "execution_count": 1,
   "id": "648debdf-ffb4-4d71-bb39-86e23bdee76a",
   "metadata": {},
   "outputs": [
    {
     "name": "stderr",
     "output_type": "stream",
     "text": [
      "WARNING: Using incubator modules: jdk.incubator.vector\n",
      "Using Spark's default log4j profile: org/apache/spark/log4j2-defaults.properties\n",
      "25/08/29 13:27:27 WARN Utils: Your hostname, Sris-MacBook-Pro.local, resolves to a loopback address: 127.0.0.1; using 100.110.158.82 instead (on interface en0)\n",
      "25/08/29 13:27:27 WARN Utils: Set SPARK_LOCAL_IP if you need to bind to another address\n",
      "Using Spark's default log4j profile: org/apache/spark/log4j2-defaults.properties\n",
      "Setting default log level to \"WARN\".\n",
      "To adjust logging level use sc.setLogLevel(newLevel). For SparkR, use setLogLevel(newLevel).\n",
      "25/08/29 13:27:28 WARN NativeCodeLoader: Unable to load native-hadoop library for your platform... using builtin-java classes where applicable\n"
     ]
    },
    {
     "name": "stdout",
     "output_type": "stream",
     "text": [
      "+-----+--------------------+------+-----------+-------+-----+-----------+---------------+-----------+----------+---------+-------+--------------------+\n",
      "|Ad_ID|       Campaign_Name|Clicks|Impressions|   Cost|Leads|Conversions|Conversion Rate|Sale_Amount|   Ad_Date| Location| Device|             Keyword|\n",
      "+-----+--------------------+------+-----------+-------+-----+-----------+---------------+-----------+----------+---------+-------+--------------------+\n",
      "|A1000| DataAnalyticsCourse| 104.0|     4498.0|$231.88| 14.0|        7.0|          0.058|      $1892|2024-11-16|hyderabad|desktop|learn data analytics|\n",
      "|A1001| DataAnalyticsCourse| 173.0|     5107.0|$216.84| 10.0|        8.0|          0.046|      $1679|20-11-2024|hyderabad| mobile|data analytics co...|\n",
      "|A1002| Data Anlytics Corse|  90.0|     4544.0|$203.66| 26.0|        9.0|           NULL|      $1624|2024/11/16|hyderabad|Desktop|data analitics on...|\n",
      "|A1003|Data Analytcis Co...| 142.0|     3185.0|$237.66| 17.0|        6.0|           NULL|      $1225|2024-11-26|HYDERABAD| tablet|data anaytics tra...|\n",
      "|A1004|Data Analytics Corse| 156.0|     3361.0| $195.9| 30.0|        8.0|           NULL|      $1091|2024-11-22|hyderabad|desktop|online data analytic|\n",
      "+-----+--------------------+------+-----------+-------+-----+-----------+---------------+-----------+----------+---------+-------+--------------------+\n",
      "only showing top 5 rows\n"
     ]
    }
   ],
   "source": [
    "from pyspark.sql import SparkSession\n",
    "import pandas as pd\n",
    "\n",
    "# Start Spark session\n",
    "spark = SparkSession.builder.appName(\"RetailETL\").getOrCreate()\n",
    "\n",
    "# Example: read CSV file\n",
    "df_ads = spark.read.csv(\"../data/GoogleAds_Sales_Uncleaned.csv\", header=True, inferSchema=True)\n",
    "df_ads.show(5)"
   ]
  },
  {
   "cell_type": "code",
   "execution_count": 2,
   "id": "eff67db0-ac30-4085-a557-adb4ccee4999",
   "metadata": {},
   "outputs": [],
   "source": [
    "df_ads.write.mode(\"overwrite\").parquet(\"../data/google_ads_extracted.parquet\")"
   ]
  },
  {
   "cell_type": "code",
   "execution_count": null,
   "id": "1f04f963-7f18-4d4d-8904-900238fbce37",
   "metadata": {},
   "outputs": [],
   "source": []
  }
 ],
 "metadata": {
  "kernelspec": {
   "display_name": "Python 3 (ipykernel)",
   "language": "python",
   "name": "python3"
  },
  "language_info": {
   "codemirror_mode": {
    "name": "ipython",
    "version": 3
   },
   "file_extension": ".py",
   "mimetype": "text/x-python",
   "name": "python",
   "nbconvert_exporter": "python",
   "pygments_lexer": "ipython3",
   "version": "3.9.23"
  }
 },
 "nbformat": 4,
 "nbformat_minor": 5
}
