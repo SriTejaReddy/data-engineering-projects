{
 "cells": [
  {
   "cell_type": "code",
   "execution_count": 4,
   "id": "ce162dea-7320-4520-9c6c-c9b83f0bdf57",
   "metadata": {},
   "outputs": [],
   "source": [
    "from pyspark.sql import SparkSession\n",
    "\n",
    "# Create Spark session\n",
    "from pyspark.sql import SparkSession\n",
    "\n",
    "spark = SparkSession.builder \\\n",
    "    .appName(\"RetailETL_Load\") \\\n",
    "    .config(\"spark.jars.packages\", \"org.postgresql:postgresql:42.7.3\") \\\n",
    "    .getOrCreate()\n",
    "# Read staging back\n",
    "df_ads_staging = spark.read.parquet(\"../data/ads_staging.parquet\")\n",
    "\n",
    "# Read warehouse back\n",
    "df_ads_warehouse = spark.read.parquet(\"../data/ads_warehouse.parquet\")\n",
    "\n",
    "jdbc_url = \"jdbc:postgresql://localhost:5432/retail_db\"\n",
    "db_properties = {\n",
    "    \"user\": \"postgres\",\n",
    "    \"password\": \"#####\",\n",
    "    \"driver\": \"org.postgresql.Driver\"\n",
    "}\n",
    "\n",
    "# Load staging\n",
    "df_ads_staging.write.jdbc(\n",
    "    url=jdbc_url, table=\"staging.ads_data\", mode=\"overwrite\", properties=db_properties\n",
    ")\n",
    "\n",
    "# Load warehouse\n",
    "df_ads_warehouse.write.jdbc(\n",
    "    url=jdbc_url, table=\"warehouse.ads_metrics\", mode=\"overwrite\", properties=db_properties\n",
    ")\n"
   ]
  },
  {
   "cell_type": "code",
   "execution_count": null,
   "id": "cb7c5fcc-ea77-4231-87c0-ce591c41c524",
   "metadata": {},
   "outputs": [],
   "source": []
  }
 ],
 "metadata": {
  "kernelspec": {
   "display_name": "Python 3 (ipykernel)",
   "language": "python",
   "name": "python3"
  },
  "language_info": {
   "codemirror_mode": {
    "name": "ipython",
    "version": 3
   },
   "file_extension": ".py",
   "mimetype": "text/x-python",
   "name": "python",
   "nbconvert_exporter": "python",
   "pygments_lexer": "ipython3",
   "version": "3.9.23"
  }
 },
 "nbformat": 4,
 "nbformat_minor": 5
}
